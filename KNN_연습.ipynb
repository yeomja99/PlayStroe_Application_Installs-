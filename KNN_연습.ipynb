{
  "nbformat": 4,
  "nbformat_minor": 0,
  "metadata": {
    "colab": {
      "name": "KNN 연습",
      "provenance": [],
      "private_outputs": true,
      "machine_shape": "hm",
      "authorship_tag": "ABX9TyM3B7I95iQSNoAABoZPlaWT",
      "include_colab_link": true
    },
    "kernelspec": {
      "name": "python3",
      "display_name": "Python 3"
    }
  },
  "cells": [
    {
      "cell_type": "markdown",
      "metadata": {
        "id": "view-in-github",
        "colab_type": "text"
      },
      "source": [
        "<a href=\"https://colab.research.google.com/github/yeomja99/PlayStroe_Application_Installs-/blob/master/KNN_%EC%97%B0%EC%8A%B5.ipynb\" target=\"_parent\"><img src=\"https://colab.research.google.com/assets/colab-badge.svg\" alt=\"Open In Colab\"/></a>"
      ]
    },
    {
      "cell_type": "markdown",
      "metadata": {
        "id": "qe5iJv1M1gof",
        "colab_type": "text"
      },
      "source": [
        "# 데이터 전처리\n",
        "pandas를 사용하여 데이터를 사용하려는 알고리즘 모델에 맞게 가공하는 것을 목적으로 한다.\n",
        "\n"
      ]
    },
    {
      "cell_type": "code",
      "metadata": {
        "id": "M_o28VJy1lLq",
        "colab_type": "code",
        "colab": {}
      },
      "source": [
        "import pandas as pd\n",
        "import numpy as np\n",
        "import glob"
      ],
      "execution_count": 0,
      "outputs": []
    },
    {
      "cell_type": "markdown",
      "metadata": {
        "id": "m-jvMIyG15AM",
        "colab_type": "text"
      },
      "source": [
        "DATA를 확인하기 위해 저장소에 있는 파일을 불러온다.\n",
        "drive에 업로드 되어 있는 파일을 사용하기 위해 아래의 코드를 실행 시킨 후, authorization Code 입력"
      ]
    },
    {
      "cell_type": "code",
      "metadata": {
        "id": "LqlGOjaZ1zUT",
        "colab_type": "code",
        "colab": {}
      },
      "source": [
        "from google.colab import drive\n",
        "drive.mount('/content/gdrive')\n",
        "\n",
        "link='/content/gdrive/My Drive/'"
      ],
      "execution_count": 0,
      "outputs": []
    },
    {
      "cell_type": "markdown",
      "metadata": {
        "id": "nZjGAzSu2W_c",
        "colab_type": "text"
      },
      "source": [
        "# 데이터 적재"
      ]
    },
    {
      "cell_type": "code",
      "metadata": {
        "id": "ZyOWRr0v2TDj",
        "colab_type": "code",
        "colab": {}
      },
      "source": [
        "data = pd.read_csv(link+'Google-Playstore-Full-수정본.csv', sep=',', encoding='CP949')\n",
        "data = pd.DataFrame(data)\n",
        "\n",
        "data.drop(['Unnamed: 10','Unnamed: 9','Unnamed: 8'], axis=1, inplace=True)\n",
        "print (data.shape)\n",
        "data.head()"
      ],
      "execution_count": 0,
      "outputs": []
    },
    {
      "cell_type": "code",
      "metadata": {
        "id": "MrUOEJAW2ovJ",
        "colab_type": "code",
        "colab": {}
      },
      "source": [
        ""
      ],
      "execution_count": 0,
      "outputs": []
    },
    {
      "cell_type": "markdown",
      "metadata": {
        "id": "23zAIIQ0-3iq",
        "colab_type": "text"
      },
      "source": [
        "## 앱 사이즈 수치화"
      ]
    },
    {
      "cell_type": "code",
      "metadata": {
        "id": "UlUoFtzR4P6y",
        "colab_type": "code",
        "colab": {}
      },
      "source": [
        "def change_size(size):\n",
        "    if size[-1]=='M':\n",
        "        x=size[:-1]\n",
        "        x=float(x)*1000000\n",
        "        return (x)\n",
        "    elif size[-1]=='k':\n",
        "        x=size[:-1]\n",
        "        x=float(x)*1000\n",
        "        return (x)\n",
        "    else:\n",
        "        return None\n",
        "\n",
        "data['Size']=data['Size'].map(change_size)\n",
        "data.head()"
      ],
      "execution_count": 0,
      "outputs": []
    },
    {
      "cell_type": "code",
      "metadata": {
        "id": "Lbgud3ks40hO",
        "colab_type": "code",
        "colab": {}
      },
      "source": [
        "data['Size'].fillna(data['Size'].median(),inplace=True)\n",
        "data.head()"
      ],
      "execution_count": 0,
      "outputs": []
    },
    {
      "cell_type": "code",
      "metadata": {
        "id": "IigGCpqH_DBI",
        "colab_type": "code",
        "colab": {}
      },
      "source": [
        "# train data, test data (9:!)\n",
        "# trainset에서 label 추출하여 따로 저장\n",
        "\n",
        "trainset=data.iloc[:234000,:]\n",
        "testset=data.iloc[234001:266045,:]\n",
        "y_train = trainset['Installs']\n",
        "del trainset ['Installs']"
      ],
      "execution_count": 0,
      "outputs": []
    },
    {
      "cell_type": "code",
      "metadata": {
        "id": "ucFJi9ToGSjm",
        "colab_type": "code",
        "colab": {}
      },
      "source": [
        "numeric_features=trainset.dtypes[trainset.dtypes!='object'].index\n",
        "trainset[numeric_features]=trainset[numeric_features].apply(\n",
        "    lambda x:(x-x.mean())/(x.std())\n",
        ")\n",
        "trainset"
      ],
      "execution_count": 0,
      "outputs": []
    },
    {
      "cell_type": "code",
      "metadata": {
        "id": "5Z06FQbmMo-p",
        "colab_type": "code",
        "colab": {}
      },
      "source": [
        "AppName=trainset['App Name']\n",
        "Category=trainset['Category']\n",
        "Category_Unique=Category.unique()\n",
        "ContentRating=trainset['Content Rating']\n",
        "ContentRating_Unique=ContentRating.unique()\n",
        "print(Category_Unique)\n",
        "print(ContentRating_Unique)"
      ],
      "execution_count": 0,
      "outputs": []
    },
    {
      "cell_type": "code",
      "metadata": {
        "id": "Gy-mq-4uM9D4",
        "colab_type": "code",
        "colab": {}
      },
      "source": [
        "Catergory_oneHot=np.zeros((AppName.size,len(Category_Unique)))\n",
        "ContentRating_oneHot=np.zeros((AppName.size,len(ContentRating_Unique)))"
      ],
      "execution_count": 0,
      "outputs": []
    },
    {
      "cell_type": "code",
      "metadata": {
        "id": "IZ9S9tVQN26A",
        "colab_type": "code",
        "colab": {}
      },
      "source": [
        "i = 0 # indexing number\n",
        "for x in trainset['Category']:\n",
        "    idx = np.where(Category_Unique==x)\n",
        "    Catergory_oneHot[i][idx]=1\n",
        "    i+=1\n",
        "\n",
        "j = 0\n",
        "for x in trainset['Content Rating']:\n",
        "    idx = np.where(ContentRating_Unique==x)\n",
        "    ContentRating_oneHot[j][idx]=1\n",
        "    j+=1"
      ],
      "execution_count": 0,
      "outputs": []
    },
    {
      "cell_type": "code",
      "metadata": {
        "id": "Zu7pdUzhOb3m",
        "colab_type": "code",
        "colab": {}
      },
      "source": [
        "newData = np.c_[AppName,Catergory_oneHot]\n",
        "newData = np.c_[newData,ContentRating_oneHot]\n",
        "newData = np.c_[newData,trainset['Price']]\n",
        "newData = np.c_[newData,trainset['Rating']]\n",
        "newData = np.c_[newData,trainset['Reviews']]\n",
        "newData = np.c_[newData,trainset['Size']]\n",
        "\n",
        "newData_ = pd.DataFrame(newData)\n",
        "newData_.columns = ['NAME', 'FOOD', 'TRAVEL', 'SHOPPING', 'LIFESTYLE', 'GAME', 'MUSIC', 'FINANCE', 'EVENTS',\n",
        " 'ENTERTAINMENT', 'EDUCATION', 'BOOKS', 'NEWS', 'PHOTOGRAPHY', 'VIDEO', 'ART',\n",
        " 'BUSINESS', 'PRODUCTIVITY', 'COMMUNICATION', 'HEALTH', 'HOUSE', 'SOCIAL',\n",
        " 'BEAUTY', 'MAPS', 'PERSONALIZATION', 'TOOLS', 'SPORTS', 'AUTO', 'LIBRARIES',\n",
        " 'COMICS', 'PARENTING', 'DATING', 'WEATHER', 'MEDICAL','Everyone', 'Teen', 'Everyone 10', 'Mature 17', 'Adults only 18', 'Unrated', 'Price', 'Rating', 'Reviews', 'Size']\n",
        "newData_.head()"
      ],
      "execution_count": 0,
      "outputs": []
    },
    {
      "cell_type": "code",
      "metadata": {
        "id": "HUN0PNalRWrf",
        "colab_type": "code",
        "colab": {}
      },
      "source": [
        ""
      ],
      "execution_count": 0,
      "outputs": []
    }
  ]
}